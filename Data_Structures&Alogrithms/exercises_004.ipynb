{
 "cells": [
  {
   "cell_type": "code",
   "execution_count": 25,
   "id": "723917ba",
   "metadata": {},
   "outputs": [
    {
     "name": "stdout",
     "output_type": "stream",
     "text": [
      "    *\n",
      "   ***\n",
      "  *****\n",
      " *******\n",
      "*********\n"
     ]
    }
   ],
   "source": [
    "#輸入整數n,n<30,印出星星金字塔,第一列1顆,第二列3顆、、、\n",
    "\n",
    "n = int(input(\"輸入一個整數(小於30): \"))\n",
    "for i in range(n):\n",
    "    # *數會呈現每層2i+1,空格數會呈現每層n-i-1\n",
    "    spaces = \" \" * (n-i-1)\n",
    "    stars = \"*\" * (2*i+1)\n",
    "    print(spaces + stars)"
   ]
  }
 ],
 "metadata": {
  "kernelspec": {
   "display_name": "exercises_2508",
   "language": "python",
   "name": "python3"
  },
  "language_info": {
   "codemirror_mode": {
    "name": "ipython",
    "version": 3
   },
   "file_extension": ".py",
   "mimetype": "text/x-python",
   "name": "python",
   "nbconvert_exporter": "python",
   "pygments_lexer": "ipython3",
   "version": "3.13.5"
  }
 },
 "nbformat": 4,
 "nbformat_minor": 5
}
