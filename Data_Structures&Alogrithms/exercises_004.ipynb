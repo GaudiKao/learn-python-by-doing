{
 "cells": [
  {
   "cell_type": "code",
   "execution_count": null,
   "id": "723917ba",
   "metadata": {},
   "outputs": [],
   "source": [
    "#輸入整數n,n<30,印出星星金字塔,第一列1顆,第二列3顆、、、\n"
   ]
  }
 ],
 "metadata": {
  "kernelspec": {
   "display_name": "exercises_2508",
   "language": "python",
   "name": "python3"
  },
  "language_info": {
   "name": "python",
   "version": "3.13.5"
  }
 },
 "nbformat": 4,
 "nbformat_minor": 5
}
