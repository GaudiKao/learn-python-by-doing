{
 "cells": [
  {
   "cell_type": "code",
   "execution_count": null,
   "id": "53483807",
   "metadata": {},
   "outputs": [],
   "source": [
    "#install numpy、pandas\n",
    "import numpy as np\n",
    "import pandas as pd\n"
   ]
  },
  {
   "cell_type": "code",
   "execution_count": null,
   "id": "d1226ac9",
   "metadata": {},
   "outputs": [
    {
     "name": "stdout",
     "output_type": "stream",
     "text": [
      "(45211, 17)\n",
      "本次促銷結果\n",
      "no     39922\n",
      "yes     5289\n",
      "Name: count, dtype: int64\n",
      "銷售成功率: 0.1170\n"
     ]
    }
   ],
   "source": [
    "#載入資料\n",
    "df_all = pd.read_csv('bank/bank-full.csv', sep=';')\n",
    "\n",
    "#將項目名稱改成中文，確認資料框內容使用display(df_all.head())\n",
    "columns = [\n",
    "    '年齡', '職業', '婚姻', '學歷', '違約', '平均餘額', '房屋貸款', '個人信貸', '聯絡方式', '最近一次通話日期', '最近一次通話月份', '最近一次通話秒數', \n",
    "    '通話次數_促銷期間', '上次促銷後_經過天數', '通話次數_促銷之前', '上次促銷結果', '本次促銷結果'\n",
    "]\n",
    "df_all.columns = columns\n",
    "\n",
    "#確認訓練資料的比數與項目數\n",
    "print(df_all.shape)\n",
    "\n",
    "#確認本次促銷結果的分布、成功率，計算結果次數用.value_counts()\n",
    "print(df_all['本次促銷結果'].value_counts())\n",
    "rate = df_all['本次促銷結果'].value_counts()['yes']/len(df_all)\n",
    "print(f'銷售成功率: {rate:.4f}')\n"
   ]
  },
  {
   "cell_type": "code",
   "execution_count": null,
   "id": "489b7d1d",
   "metadata": {},
   "outputs": [
    {
     "name": "stdout",
     "output_type": "stream",
     "text": [
      "年齡            0\n",
      "職業            0\n",
      "婚姻            0\n",
      "學歷            0\n",
      "違約            0\n",
      "平均餘額          0\n",
      "房屋貸款          0\n",
      "個人信貸          0\n",
      "聯絡方式          0\n",
      "最近一次通話日期      0\n",
      "最近一次通話月份      0\n",
      "最近一次通話秒數      0\n",
      "通話次數_促銷期間     0\n",
      "上次促銷後_經過天數    0\n",
      "通話次數_促銷之前     0\n",
      "上次促銷結果        0\n",
      "本次促銷結果        0\n",
      "dtype: int64\n"
     ]
    }
   ],
   "source": [
    "#確認缺失值\n",
    "print(df_all.isnull().sum())"
   ]
  },
  {
   "cell_type": "markdown",
   "id": "8e31257e",
   "metadata": {},
   "source": [
    "concat()說明書\n",
    "pandas.concat(objs, axis=0, join='outer', ignore_index=False, keys=None, levels=None, names=None, verify_integrity=False, sort=False, copy=True)\n",
    "objs：一個可迭代物件（list、tuple）包含要連接的 DataFrame 或 Series。\n",
    "axis：連接軸，0 表示縱向（行連接，預設），1 表示橫向（列連接）。\n",
    "join：如何處理索引的聯集。'outer'（預設）為聯集，'inner'為交集。\n",
    "ignore_index：是否重新索引結果，若True，結果索引將會從0開始。\n",
    "keys：為連接的資料添加層次化索引標籤。\n",
    "verify_integrity：是否檢查索引有無重複。\n",
    "sort：是否排序非連接軸的索引。\n",
    "\n",
    "資料處理Label encoding或One hot encoding\n",
    "get_dummies()說明書\n",
    "pd.get_dummies(data, prefix=None, prefix_sep='_', dummy_na=False, columns=None, drop_first=False, dtype=None)\n",
    "data：欲處理的DataFrame或Series。\n",
    "columns：選擇指定的欄位進行轉換，不指定則會對所有類別型欄位處理。\n",
    "prefix：轉換後欄位名前綴，預設用原本欄位名。\n",
    "prefix_sep：前綴與欄位值間隔符號（預設為 _）。\n",
    "drop_first：是否刪除第一個類別，避免虛擬變數陷阱（可用於避免多重共線性）。\n",
    "dummy_na：是否當成一類別值對待空值。\n",
    "dtype：轉換後的資料型態。"
   ]
  },
  {
   "cell_type": "code",
   "execution_count": null,
   "id": "fd7a9f27",
   "metadata": {},
   "outputs": [],
   "source": [
    "#使用grt_dummies函式對種類值進行One-Hot編碼\n",
    "#把 DataFrame df 中名為 column 的**類別欄（categorical）**做 one-hot encoding（虛擬變數化）\n",
    "def enc(df, column):\n",
    "    df_dummy = pd.get_dummies(df[column], prefix=column)\n",
    "    df = pd.concat([df.drop([column],axis=1), df_dummy],axis=1)\n",
    "    return df\n",
    "\n"
   ]
  }
 ],
 "metadata": {
  "kernelspec": {
   "display_name": "exercises_2508",
   "language": "python",
   "name": "python3"
  },
  "language_info": {
   "codemirror_mode": {
    "name": "ipython",
    "version": 3
   },
   "file_extension": ".py",
   "mimetype": "text/x-python",
   "name": "python",
   "nbconvert_exporter": "python",
   "pygments_lexer": "ipython3",
   "version": "3.13.5"
  }
 },
 "nbformat": 4,
 "nbformat_minor": 5
}
