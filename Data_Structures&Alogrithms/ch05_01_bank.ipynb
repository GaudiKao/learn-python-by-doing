{
 "cells": [
  {
   "cell_type": "code",
   "execution_count": 2,
   "id": "53483807",
   "metadata": {},
   "outputs": [],
   "source": [
    "import numpy as np\n",
    "import pandas as pd\n"
   ]
  },
  {
   "cell_type": "code",
   "execution_count": 12,
   "id": "d1226ac9",
   "metadata": {},
   "outputs": [
    {
     "name": "stdout",
     "output_type": "stream",
     "text": [
      "(45211, 17)\n",
      "本次促銷結果\n",
      "no     39922\n",
      "yes     5289\n",
      "Name: count, dtype: int64\n",
      "銷售成功率: 0.1170\n"
     ]
    }
   ],
   "source": [
    "df_all = pd.read_csv('bank/bank-full.csv', sep=';')\n",
    "columns = [\n",
    "    '年齡', '職業', '婚姻', '學歷', '違約', '平均餘額', '房屋貸款', '個人信貸', '聯絡方式', '最近一次通話日期', '最近一次通話月份', '最近一次通話秒數', \n",
    "    '通話次數_促銷期間', '上次促銷後_經過天數', '通話次數_促銷之前', '上次促銷結果', '本次促銷結果'\n",
    "]\n",
    "df_all.columns = columns\n",
    "print(df_all.shape)\n",
    "print(df_all['本次促銷結果'].value_counts())\n",
    "rate = df_all['本次促銷結果'].value_counts()['yes']/len(df_all)\n",
    "print(f'銷售成功率: {rate:.4f}')\n"
   ]
  },
  {
   "cell_type": "code",
   "execution_count": 13,
   "id": "489b7d1d",
   "metadata": {},
   "outputs": [
    {
     "name": "stdout",
     "output_type": "stream",
     "text": [
      "年齡            0\n",
      "職業            0\n",
      "婚姻            0\n",
      "學歷            0\n",
      "違約            0\n",
      "平均餘額          0\n",
      "房屋貸款          0\n",
      "個人信貸          0\n",
      "聯絡方式          0\n",
      "最近一次通話日期      0\n",
      "最近一次通話月份      0\n",
      "最近一次通話秒數      0\n",
      "通話次數_促銷期間     0\n",
      "上次促銷後_經過天數    0\n",
      "通話次數_促銷之前     0\n",
      "上次促銷結果        0\n",
      "本次促銷結果        0\n",
      "dtype: int64\n"
     ]
    }
   ],
   "source": [
    "print(df_all.isnull().sum())"
   ]
  }
 ],
 "metadata": {
  "kernelspec": {
   "display_name": "exercises_2508",
   "language": "python",
   "name": "python3"
  },
  "language_info": {
   "codemirror_mode": {
    "name": "ipython",
    "version": 3
   },
   "file_extension": ".py",
   "mimetype": "text/x-python",
   "name": "python",
   "nbconvert_exporter": "python",
   "pygments_lexer": "ipython3",
   "version": "3.13.5"
  }
 },
 "nbformat": 4,
 "nbformat_minor": 5
}
