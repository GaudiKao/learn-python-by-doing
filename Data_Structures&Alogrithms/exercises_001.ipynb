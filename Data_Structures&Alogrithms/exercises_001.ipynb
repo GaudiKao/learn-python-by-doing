{
 "cells": [
  {
   "cell_type": "code",
   "execution_count": 2,
   "id": "df465343",
   "metadata": {},
   "outputs": [
    {
     "name": "stdout",
     "output_type": "stream",
     "text": [
      "整數:120120012312000 最多連續出現 3 個0\n"
     ]
    }
   ],
   "source": [
    "#給定一個整數n,傳回數字0在n中連續出現最多的次數consecutive、current\n",
    "\n",
    "def max_consecutive_zeros(num):\n",
    "\n",
    "    curren_count = 0\n",
    "    max_count = 1\n",
    "    for i in range(len(num)):\n",
    "        str(num)\n",
    "        if num[i] == \"0\":\n",
    "            curren_count += 1\n",
    "            max_count = max(curren_count, max_count) #因為要傳出最多次數的curren_count值\n",
    "        else:\n",
    "            curren_count = 0\n",
    "    return max_count\n",
    "\n",
    "n = input(\"輸入1個整數:\")\n",
    "print(f\"整數:{n} 最多連續出現 {max_consecutive_zeros(n)} 個0\")"
   ]
  }
 ],
 "metadata": {
  "kernelspec": {
   "display_name": "exercises_2508",
   "language": "python",
   "name": "python3"
  },
  "language_info": {
   "codemirror_mode": {
    "name": "ipython",
    "version": 3
   },
   "file_extension": ".py",
   "mimetype": "text/x-python",
   "name": "python",
   "nbconvert_exporter": "python",
   "pygments_lexer": "ipython3",
   "version": "3.13.5"
  }
 },
 "nbformat": 4,
 "nbformat_minor": 5
}
