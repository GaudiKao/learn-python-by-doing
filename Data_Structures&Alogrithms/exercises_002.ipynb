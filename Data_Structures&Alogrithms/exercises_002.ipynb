{
 "cells": [
  {
   "cell_type": "code",
   "execution_count": 1,
   "id": "ef49c223",
   "metadata": {},
   "outputs": [
    {
     "name": "stdout",
     "output_type": "stream",
     "text": [
      "整數:12321 是 回文數字\n"
     ]
    }
   ],
   "source": [
    "#給定一個整數n,判斷是否為回文數字,亦即從右邊看到左邊會和原來數字一樣ex:12321\n",
    "\n",
    "def palindrome(n):\n",
    "    for i in range(len(n)):\n",
    "        if n[i] == n[-1-i]:\n",
    "            return \"是\" \n",
    "        else:\n",
    "            return \"不是\"\n",
    "\n",
    "n = input(\"請輸入一個正整數:\")\n",
    "print(f\"整數:{n} {palindrome(n)} 回文數字\")"
   ]
  }
 ],
 "metadata": {
  "kernelspec": {
   "display_name": "exercises_2508",
   "language": "python",
   "name": "python3"
  },
  "language_info": {
   "codemirror_mode": {
    "name": "ipython",
    "version": 3
   },
   "file_extension": ".py",
   "mimetype": "text/x-python",
   "name": "python",
   "nbconvert_exporter": "python",
   "pygments_lexer": "ipython3",
   "version": "3.13.5"
  }
 },
 "nbformat": 4,
 "nbformat_minor": 5
}
