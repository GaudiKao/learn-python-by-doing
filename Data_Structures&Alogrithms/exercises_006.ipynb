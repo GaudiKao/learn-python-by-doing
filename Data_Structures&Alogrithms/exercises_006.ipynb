{
 "cells": [
  {
   "cell_type": "code",
   "execution_count": 8,
   "id": "78d0531f",
   "metadata": {},
   "outputs": [
    {
     "data": {
      "text/plain": [
       "2"
      ]
     },
     "execution_count": 8,
     "metadata": {},
     "output_type": "execute_result"
    }
   ],
   "source": [
    "#用遞迴程式寫兩數m與n(m>=n)的最大公因數\n",
    "\n",
    "\n",
    "def fact(m,n):\n",
    "    if n == 0:  #終止條件:n=0\n",
    "        return m\n",
    "    return fact(n, m % n)\n",
    "\n",
    "m, n = map(int, input(\"輸入兩個正整數m,n(條件:用','分開,m>=n),計算最大公因數: \").split(\",\"))\n",
    "fact(m, n)"
   ]
  }
 ],
 "metadata": {
  "kernelspec": {
   "display_name": "exercises_2508",
   "language": "python",
   "name": "python3"
  },
  "language_info": {
   "codemirror_mode": {
    "name": "ipython",
    "version": 3
   },
   "file_extension": ".py",
   "mimetype": "text/x-python",
   "name": "python",
   "nbconvert_exporter": "python",
   "pygments_lexer": "ipython3",
   "version": "3.13.5"
  }
 },
 "nbformat": 4,
 "nbformat_minor": 5
}
