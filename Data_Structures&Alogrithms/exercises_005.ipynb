{
 "cells": [
  {
   "cell_type": "code",
   "execution_count": 2,
   "id": "5f5401a5",
   "metadata": {},
   "outputs": [
    {
     "data": {
      "text/plain": [
       "24"
      ]
     },
     "execution_count": 2,
     "metadata": {},
     "output_type": "execute_result"
    }
   ],
   "source": [
    "#遞迴階層:\n",
    "#輸入正整數n,n>=2,寫一個遞迴程式來計算累加和,例如n=4,則fact(4)=1*2 + 2*3 + 3*4 = 20:\n",
    "# 4! = 4 * (4 - 1) * (3 - 1)\n",
    "\n",
    "def fact(n):\n",
    "    if n == 2:  #先找到終止條件:2\n",
    "        return 2\n",
    "    return n * fact(n - 1)\n",
    "\n",
    "n = int(input(\"輸入一個正整數(n>=2): \"))\n",
    "fact(n)"
   ]
  }
 ],
 "metadata": {
  "kernelspec": {
   "display_name": "exercises_2508",
   "language": "python",
   "name": "python3"
  },
  "language_info": {
   "codemirror_mode": {
    "name": "ipython",
    "version": 3
   },
   "file_extension": ".py",
   "mimetype": "text/x-python",
   "name": "python",
   "nbconvert_exporter": "python",
   "pygments_lexer": "ipython3",
   "version": "3.13.5"
  }
 },
 "nbformat": 4,
 "nbformat_minor": 5
}
